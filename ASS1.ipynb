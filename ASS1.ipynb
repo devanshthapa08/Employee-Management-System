{
 "cells": [
  {
   "cell_type": "code",
   "execution_count": 1,
   "id": "342025da-442f-449a-9b77-b328f1afbf65",
   "metadata": {},
   "outputs": [],
   "source": [
    "# Step 1 - Initialize employee data dictionary with sample\n",
    "employees = {\n",
    "    101: {'name': 'Satya', 'age': 27, 'department': 'HR', 'salary': 50000}\n",
    "}\n"
   ]
  },
  {
   "cell_type": "code",
   "execution_count": 2,
   "id": "dcf0e576-97cc-47bc-b313-709fdef9d4a0",
   "metadata": {},
   "outputs": [],
   "source": [
    "def add_employee():\n",
    "    try:\n",
    "        emp_id = int(input(\"Enter Employee ID: \"))\n",
    "        \n",
    "        if emp_id in employees:\n",
    "            print(\"⚠️ Employee ID already exists. Please enter a unique ID.\")\n",
    "            return\n",
    "\n",
    "        name = input(\"Enter Employee Name: \")\n",
    "        age = int(input(\"Enter Employee Age: \"))\n",
    "        department = input(\"Enter Employee Department: \")\n",
    "        salary = float(input(\"Enter Employee Salary: \"))\n",
    "\n",
    "        employees[emp_id] = {\n",
    "            'name': name,\n",
    "            'age': age,\n",
    "            'department': department,\n",
    "            'salary': salary\n",
    "        }\n",
    "\n",
    "        print(f\"✅ Employee '{name}' added successfully with ID {emp_id}.\")\n",
    "\n",
    "    except ValueError:\n",
    "        print(\"❌ Invalid input. Please enter correct data types.\")\n"
   ]
  },
  {
   "cell_type": "code",
   "execution_count": 3,
   "id": "8ae8e09e-2ffb-4489-92f2-6fc2ae2fe195",
   "metadata": {},
   "outputs": [],
   "source": [
    "def view_employees():\n",
    "    if not employees:\n",
    "        print(\"📭 No employees available.\")\n",
    "        return\n",
    "\n",
    "    print(\"\\n📋 ===== ALL EMPLOYEES =====\")\n",
    "    print(\"ID\\tName\\tAge\\tDepartment\\tSalary\")\n",
    "    print(\"-\" * 50)\n",
    "    \n",
    "    for emp_id, details in employees.items():\n",
    "        print(f\"{emp_id}\\t{details['name']}\\t{details['age']}\\t{details['department']}\\t{details['salary']}\")\n"
   ]
  },
  {
   "cell_type": "code",
   "execution_count": 4,
   "id": "0a454bdb-2e83-4bd1-a07a-ecfd1e01d103",
   "metadata": {},
   "outputs": [],
   "source": [
    "def search_employee():\n",
    "    try:\n",
    "        emp_id = int(input(\"🔎 Enter Employee ID to search: \"))\n",
    "\n",
    "        if emp_id in employees:\n",
    "            emp = employees[emp_id]\n",
    "            print(\"\\n👤 ===== EMPLOYEE DETAILS =====\")\n",
    "            print(f\"ID        : {emp_id}\")\n",
    "            print(f\"Name      : {emp['name']}\")\n",
    "            print(f\"Age       : {emp['age']}\")\n",
    "            print(f\"Department: {emp['department']}\")\n",
    "            print(f\"Salary    : ₹{emp['salary']}\")\n",
    "        else:\n",
    "            print(\"❌ Employee not found.\")\n",
    "    except ValueError:\n",
    "        print(\"⚠️ Please enter a valid numeric Employee ID.\")\n"
   ]
  },
  {
   "cell_type": "code",
   "execution_count": 5,
   "id": "5fe84cd4-8f24-4807-939b-976ac5dac9f1",
   "metadata": {},
   "outputs": [],
   "source": [
    "def main_menu():\n",
    "    while True:\n",
    "        print(\"\\n========= EMPLOYEE MANAGEMENT SYSTEM =========\")\n",
    "        print(\"1. Add Employee\")\n",
    "        print(\"2. View All Employees\")\n",
    "        print(\"3. Search Employee\")\n",
    "        print(\"4. Exit\")\n",
    "\n",
    "        choice = input(\"👉 Enter your choice (1-4): \")\n",
    "\n",
    "        if choice == '1':\n",
    "            add_employee()\n",
    "        elif choice == '2':\n",
    "            view_employees()\n",
    "        elif choice == '3':\n",
    "            search_employee()\n",
    "        elif choice == '4':\n",
    "            print(\"👋 Thank you for using EMS!\")\n",
    "            break\n",
    "        else:\n",
    "            print(\"⚠️ Invalid choice. Please select between 1 to 4.\")\n"
   ]
  },
  {
   "cell_type": "code",
   "execution_count": null,
   "id": "09b7624c-66fe-4b2a-96ee-793be343c608",
   "metadata": {},
   "outputs": [
    {
     "name": "stdout",
     "output_type": "stream",
     "text": [
      "\n",
      "========= EMPLOYEE MANAGEMENT SYSTEM =========\n",
      "1. Add Employee\n",
      "2. View All Employees\n",
      "3. Search Employee\n",
      "4. Exit\n"
     ]
    },
    {
     "name": "stdin",
     "output_type": "stream",
     "text": [
      "👉 Enter your choice (1-4):  2\n"
     ]
    },
    {
     "name": "stdout",
     "output_type": "stream",
     "text": [
      "\n",
      "📋 ===== ALL EMPLOYEES =====\n",
      "ID\tName\tAge\tDepartment\tSalary\n",
      "--------------------------------------------------\n",
      "101\tSatya\t27\tHR\t50000\n",
      "\n",
      "========= EMPLOYEE MANAGEMENT SYSTEM =========\n",
      "1. Add Employee\n",
      "2. View All Employees\n",
      "3. Search Employee\n",
      "4. Exit\n"
     ]
    }
   ],
   "source": [
    "# Run the Employee Management System\n",
    "main_menu()\n"
   ]
  },
  {
   "cell_type": "code",
   "execution_count": null,
   "id": "cc77692c-aa41-462e-8da4-d5225419f991",
   "metadata": {},
   "outputs": [],
   "source": []
  }
 ],
 "metadata": {
  "kernelspec": {
   "display_name": "Python 3 (ipykernel)",
   "language": "python",
   "name": "python3"
  },
  "language_info": {
   "codemirror_mode": {
    "name": "ipython",
    "version": 3
   },
   "file_extension": ".py",
   "mimetype": "text/x-python",
   "name": "python",
   "nbconvert_exporter": "python",
   "pygments_lexer": "ipython3",
   "version": "3.12.7"
  }
 },
 "nbformat": 4,
 "nbformat_minor": 5
}
